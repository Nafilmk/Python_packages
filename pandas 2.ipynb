{
 "cells": [
  {
   "cell_type": "code",
   "execution_count": 1,
   "id": "a9b1ea51",
   "metadata": {},
   "outputs": [],
   "source": [
    "import pandas as pd\n",
    "import numpy as np"
   ]
  },
  {
   "cell_type": "code",
   "execution_count": 2,
   "id": "fce46a04",
   "metadata": {},
   "outputs": [
    {
     "name": "stdout",
     "output_type": "stream",
     "text": [
      "<class 'pandas.core.frame.DataFrame'>\n"
     ]
    }
   ],
   "source": [
    "dataframe1=pd.DataFrame([12345],dtype=int)\n",
    "print(type(dataframe1))\n"
   ]
  },
  {
   "cell_type": "code",
   "execution_count": 3,
   "id": "08a25218",
   "metadata": {},
   "outputs": [
    {
     "data": {
      "text/plain": [
       "0    10.0\n",
       "1    11.0\n",
       "2    12.0\n",
       "3    13.0\n",
       "4     NaN\n",
       "5    14.0\n",
       "6    15.0\n",
       "dtype: float64"
      ]
     },
     "execution_count": 3,
     "metadata": {},
     "output_type": "execute_result"
    }
   ],
   "source": [
    "a=pd.Series([10,11,12,13,np.nan,14,15])\n",
    "a"
   ]
  },
  {
   "cell_type": "code",
   "execution_count": 4,
   "id": "21632c7d",
   "metadata": {},
   "outputs": [
    {
     "name": "stdout",
     "output_type": "stream",
     "text": [
      "DatetimeIndex(['2023-02-21', '2023-02-22', '2023-02-23', '2023-02-24',\n",
      "               '2023-02-25', '2023-02-26', '2023-02-27', '2023-02-28',\n",
      "               '2023-03-01', '2023-03-02'],\n",
      "              dtype='datetime64[ns]', freq='D')\n",
      "<class 'pandas.core.indexes.datetimes.DatetimeIndex'>\n"
     ]
    }
   ],
   "source": [
    "d=pd.date_range(\"20230221\",periods=10)\n",
    "print(d)\n",
    "print(type(d))"
   ]
  },
  {
   "cell_type": "code",
   "execution_count": 6,
   "id": "2bb70d8b",
   "metadata": {},
   "outputs": [
    {
     "data": {
      "text/html": [
       "<div>\n",
       "<style scoped>\n",
       "    .dataframe tbody tr th:only-of-type {\n",
       "        vertical-align: middle;\n",
       "    }\n",
       "\n",
       "    .dataframe tbody tr th {\n",
       "        vertical-align: top;\n",
       "    }\n",
       "\n",
       "    .dataframe thead th {\n",
       "        text-align: right;\n",
       "    }\n",
       "</style>\n",
       "<table border=\"1\" class=\"dataframe\">\n",
       "  <thead>\n",
       "    <tr style=\"text-align: right;\">\n",
       "      <th></th>\n",
       "      <th>1</th>\n",
       "      <th>2</th>\n",
       "      <th>3</th>\n",
       "      <th>4</th>\n",
       "    </tr>\n",
       "  </thead>\n",
       "  <tbody>\n",
       "    <tr>\n",
       "      <th>2023-02-21</th>\n",
       "      <td>-0.323347</td>\n",
       "      <td>-1.706565</td>\n",
       "      <td>-0.014820</td>\n",
       "      <td>1.018963</td>\n",
       "    </tr>\n",
       "    <tr>\n",
       "      <th>2023-02-22</th>\n",
       "      <td>1.651584</td>\n",
       "      <td>0.364085</td>\n",
       "      <td>0.837745</td>\n",
       "      <td>0.166816</td>\n",
       "    </tr>\n",
       "    <tr>\n",
       "      <th>2023-02-23</th>\n",
       "      <td>0.178265</td>\n",
       "      <td>1.388153</td>\n",
       "      <td>-0.875721</td>\n",
       "      <td>0.267024</td>\n",
       "    </tr>\n",
       "    <tr>\n",
       "      <th>2023-02-24</th>\n",
       "      <td>-0.342911</td>\n",
       "      <td>1.134256</td>\n",
       "      <td>-1.522517</td>\n",
       "      <td>-0.334522</td>\n",
       "    </tr>\n",
       "    <tr>\n",
       "      <th>2023-02-25</th>\n",
       "      <td>-0.701023</td>\n",
       "      <td>-0.631916</td>\n",
       "      <td>-0.360167</td>\n",
       "      <td>-1.063309</td>\n",
       "    </tr>\n",
       "    <tr>\n",
       "      <th>2023-02-26</th>\n",
       "      <td>-1.575763</td>\n",
       "      <td>-1.169007</td>\n",
       "      <td>1.234714</td>\n",
       "      <td>-1.199812</td>\n",
       "    </tr>\n",
       "    <tr>\n",
       "      <th>2023-02-27</th>\n",
       "      <td>0.065122</td>\n",
       "      <td>1.011975</td>\n",
       "      <td>0.528017</td>\n",
       "      <td>-0.731666</td>\n",
       "    </tr>\n",
       "    <tr>\n",
       "      <th>2023-02-28</th>\n",
       "      <td>-1.136644</td>\n",
       "      <td>0.635964</td>\n",
       "      <td>-0.362662</td>\n",
       "      <td>0.192305</td>\n",
       "    </tr>\n",
       "    <tr>\n",
       "      <th>2023-03-01</th>\n",
       "      <td>-1.389486</td>\n",
       "      <td>-1.172467</td>\n",
       "      <td>0.500847</td>\n",
       "      <td>0.136984</td>\n",
       "    </tr>\n",
       "    <tr>\n",
       "      <th>2023-03-02</th>\n",
       "      <td>0.755093</td>\n",
       "      <td>0.089185</td>\n",
       "      <td>0.295046</td>\n",
       "      <td>-0.801574</td>\n",
       "    </tr>\n",
       "  </tbody>\n",
       "</table>\n",
       "</div>"
      ],
      "text/plain": [
       "                   1         2         3         4\n",
       "2023-02-21 -0.323347 -1.706565 -0.014820  1.018963\n",
       "2023-02-22  1.651584  0.364085  0.837745  0.166816\n",
       "2023-02-23  0.178265  1.388153 -0.875721  0.267024\n",
       "2023-02-24 -0.342911  1.134256 -1.522517 -0.334522\n",
       "2023-02-25 -0.701023 -0.631916 -0.360167 -1.063309\n",
       "2023-02-26 -1.575763 -1.169007  1.234714 -1.199812\n",
       "2023-02-27  0.065122  1.011975  0.528017 -0.731666\n",
       "2023-02-28 -1.136644  0.635964 -0.362662  0.192305\n",
       "2023-03-01 -1.389486 -1.172467  0.500847  0.136984\n",
       "2023-03-02  0.755093  0.089185  0.295046 -0.801574"
      ]
     },
     "execution_count": 6,
     "metadata": {},
     "output_type": "execute_result"
    }
   ],
   "source": [
    "df = pd.DataFrame(np.random.randn(10,4),index=d,columns=[1,2,3,4])\n",
    "df"
   ]
  },
  {
   "cell_type": "code",
   "execution_count": 11,
   "id": "b321b553",
   "metadata": {},
   "outputs": [
    {
     "data": {
      "text/html": [
       "<div>\n",
       "<style scoped>\n",
       "    .dataframe tbody tr th:only-of-type {\n",
       "        vertical-align: middle;\n",
       "    }\n",
       "\n",
       "    .dataframe tbody tr th {\n",
       "        vertical-align: top;\n",
       "    }\n",
       "\n",
       "    .dataframe thead th {\n",
       "        text-align: right;\n",
       "    }\n",
       "</style>\n",
       "<table border=\"1\" class=\"dataframe\">\n",
       "  <thead>\n",
       "    <tr style=\"text-align: right;\">\n",
       "      <th></th>\n",
       "      <th>no</th>\n",
       "      <th>date</th>\n",
       "      <th>series</th>\n",
       "      <th>array</th>\n",
       "      <th>Categori</th>\n",
       "    </tr>\n",
       "  </thead>\n",
       "  <tbody>\n",
       "    <tr>\n",
       "      <th>0</th>\n",
       "      <td>1</td>\n",
       "      <td>2023-02-22</td>\n",
       "      <td>3.0</td>\n",
       "      <td>5</td>\n",
       "      <td>true</td>\n",
       "    </tr>\n",
       "    <tr>\n",
       "      <th>1</th>\n",
       "      <td>2</td>\n",
       "      <td>2023-02-23</td>\n",
       "      <td>3.0</td>\n",
       "      <td>5</td>\n",
       "      <td>false</td>\n",
       "    </tr>\n",
       "    <tr>\n",
       "      <th>2</th>\n",
       "      <td>3</td>\n",
       "      <td>2023-02-24</td>\n",
       "      <td>3.0</td>\n",
       "      <td>5</td>\n",
       "      <td>true</td>\n",
       "    </tr>\n",
       "    <tr>\n",
       "      <th>3</th>\n",
       "      <td>4</td>\n",
       "      <td>2023-02-25</td>\n",
       "      <td>3.0</td>\n",
       "      <td>5</td>\n",
       "      <td>false</td>\n",
       "    </tr>\n",
       "  </tbody>\n",
       "</table>\n",
       "</div>"
      ],
      "text/plain": [
       "   no       date  series  array Categori\n",
       "0   1 2023-02-22     3.0      5     true\n",
       "1   2 2023-02-23     3.0      5    false\n",
       "2   3 2023-02-24     3.0      5     true\n",
       "3   4 2023-02-25     3.0      5    false"
      ]
     },
     "execution_count": 11,
     "metadata": {},
     "output_type": "execute_result"
    }
   ],
   "source": [
    "a=pd.DataFrame({\"no\":[1,2,3,4],\n",
    "                \"date\":pd.date_range(\"20230222\",periods=4),\n",
    "               \"series\":pd.Series(3,index=list(range(4)),dtype=\"float32\"),\n",
    "               \"array\":pd.array([5]*4,dtype=\"int32\"),\n",
    "               \"Categori\":pd.Categorical([\"true\",\"false\",\"true\",\"false\"])})\n",
    "a"
   ]
  },
  {
   "cell_type": "code",
   "execution_count": 12,
   "id": "5b661a4d",
   "metadata": {},
   "outputs": [
    {
     "data": {
      "text/plain": [
       "no                   int64\n",
       "date        datetime64[ns]\n",
       "series             float32\n",
       "array                int32\n",
       "Categori          category\n",
       "dtype: object"
      ]
     },
     "execution_count": 12,
     "metadata": {},
     "output_type": "execute_result"
    }
   ],
   "source": [
    "a.dtypes"
   ]
  },
  {
   "cell_type": "code",
   "execution_count": 14,
   "id": "10c0c1d2",
   "metadata": {},
   "outputs": [
    {
     "data": {
      "text/plain": [
       "1    float64\n",
       "2    float64\n",
       "3    float64\n",
       "4    float64\n",
       "dtype: object"
      ]
     },
     "execution_count": 14,
     "metadata": {},
     "output_type": "execute_result"
    }
   ],
   "source": [
    "df.dtypes"
   ]
  },
  {
   "cell_type": "code",
   "execution_count": 15,
   "id": "e56d6c2f",
   "metadata": {},
   "outputs": [
    {
     "data": {
      "text/html": [
       "<div>\n",
       "<style scoped>\n",
       "    .dataframe tbody tr th:only-of-type {\n",
       "        vertical-align: middle;\n",
       "    }\n",
       "\n",
       "    .dataframe tbody tr th {\n",
       "        vertical-align: top;\n",
       "    }\n",
       "\n",
       "    .dataframe thead th {\n",
       "        text-align: right;\n",
       "    }\n",
       "</style>\n",
       "<table border=\"1\" class=\"dataframe\">\n",
       "  <thead>\n",
       "    <tr style=\"text-align: right;\">\n",
       "      <th></th>\n",
       "      <th>1</th>\n",
       "      <th>2</th>\n",
       "      <th>3</th>\n",
       "      <th>4</th>\n",
       "    </tr>\n",
       "  </thead>\n",
       "  <tbody>\n",
       "    <tr>\n",
       "      <th>2023-02-21</th>\n",
       "      <td>-0.323347</td>\n",
       "      <td>-1.706565</td>\n",
       "      <td>-0.014820</td>\n",
       "      <td>1.018963</td>\n",
       "    </tr>\n",
       "    <tr>\n",
       "      <th>2023-02-22</th>\n",
       "      <td>1.651584</td>\n",
       "      <td>0.364085</td>\n",
       "      <td>0.837745</td>\n",
       "      <td>0.166816</td>\n",
       "    </tr>\n",
       "    <tr>\n",
       "      <th>2023-02-23</th>\n",
       "      <td>0.178265</td>\n",
       "      <td>1.388153</td>\n",
       "      <td>-0.875721</td>\n",
       "      <td>0.267024</td>\n",
       "    </tr>\n",
       "    <tr>\n",
       "      <th>2023-02-24</th>\n",
       "      <td>-0.342911</td>\n",
       "      <td>1.134256</td>\n",
       "      <td>-1.522517</td>\n",
       "      <td>-0.334522</td>\n",
       "    </tr>\n",
       "    <tr>\n",
       "      <th>2023-02-25</th>\n",
       "      <td>-0.701023</td>\n",
       "      <td>-0.631916</td>\n",
       "      <td>-0.360167</td>\n",
       "      <td>-1.063309</td>\n",
       "    </tr>\n",
       "  </tbody>\n",
       "</table>\n",
       "</div>"
      ],
      "text/plain": [
       "                   1         2         3         4\n",
       "2023-02-21 -0.323347 -1.706565 -0.014820  1.018963\n",
       "2023-02-22  1.651584  0.364085  0.837745  0.166816\n",
       "2023-02-23  0.178265  1.388153 -0.875721  0.267024\n",
       "2023-02-24 -0.342911  1.134256 -1.522517 -0.334522\n",
       "2023-02-25 -0.701023 -0.631916 -0.360167 -1.063309"
      ]
     },
     "execution_count": 15,
     "metadata": {},
     "output_type": "execute_result"
    }
   ],
   "source": [
    "df.head()"
   ]
  },
  {
   "cell_type": "code",
   "execution_count": 16,
   "id": "ee8b2b73",
   "metadata": {},
   "outputs": [
    {
     "data": {
      "text/html": [
       "<div>\n",
       "<style scoped>\n",
       "    .dataframe tbody tr th:only-of-type {\n",
       "        vertical-align: middle;\n",
       "    }\n",
       "\n",
       "    .dataframe tbody tr th {\n",
       "        vertical-align: top;\n",
       "    }\n",
       "\n",
       "    .dataframe thead th {\n",
       "        text-align: right;\n",
       "    }\n",
       "</style>\n",
       "<table border=\"1\" class=\"dataframe\">\n",
       "  <thead>\n",
       "    <tr style=\"text-align: right;\">\n",
       "      <th></th>\n",
       "      <th>1</th>\n",
       "      <th>2</th>\n",
       "      <th>3</th>\n",
       "      <th>4</th>\n",
       "    </tr>\n",
       "  </thead>\n",
       "  <tbody>\n",
       "    <tr>\n",
       "      <th>2023-02-26</th>\n",
       "      <td>-1.575763</td>\n",
       "      <td>-1.169007</td>\n",
       "      <td>1.234714</td>\n",
       "      <td>-1.199812</td>\n",
       "    </tr>\n",
       "    <tr>\n",
       "      <th>2023-02-27</th>\n",
       "      <td>0.065122</td>\n",
       "      <td>1.011975</td>\n",
       "      <td>0.528017</td>\n",
       "      <td>-0.731666</td>\n",
       "    </tr>\n",
       "    <tr>\n",
       "      <th>2023-02-28</th>\n",
       "      <td>-1.136644</td>\n",
       "      <td>0.635964</td>\n",
       "      <td>-0.362662</td>\n",
       "      <td>0.192305</td>\n",
       "    </tr>\n",
       "    <tr>\n",
       "      <th>2023-03-01</th>\n",
       "      <td>-1.389486</td>\n",
       "      <td>-1.172467</td>\n",
       "      <td>0.500847</td>\n",
       "      <td>0.136984</td>\n",
       "    </tr>\n",
       "    <tr>\n",
       "      <th>2023-03-02</th>\n",
       "      <td>0.755093</td>\n",
       "      <td>0.089185</td>\n",
       "      <td>0.295046</td>\n",
       "      <td>-0.801574</td>\n",
       "    </tr>\n",
       "  </tbody>\n",
       "</table>\n",
       "</div>"
      ],
      "text/plain": [
       "                   1         2         3         4\n",
       "2023-02-26 -1.575763 -1.169007  1.234714 -1.199812\n",
       "2023-02-27  0.065122  1.011975  0.528017 -0.731666\n",
       "2023-02-28 -1.136644  0.635964 -0.362662  0.192305\n",
       "2023-03-01 -1.389486 -1.172467  0.500847  0.136984\n",
       "2023-03-02  0.755093  0.089185  0.295046 -0.801574"
      ]
     },
     "execution_count": 16,
     "metadata": {},
     "output_type": "execute_result"
    }
   ],
   "source": [
    "df.tail()"
   ]
  },
  {
   "cell_type": "code",
   "execution_count": 17,
   "id": "d114b497",
   "metadata": {},
   "outputs": [
    {
     "data": {
      "text/html": [
       "<div>\n",
       "<style scoped>\n",
       "    .dataframe tbody tr th:only-of-type {\n",
       "        vertical-align: middle;\n",
       "    }\n",
       "\n",
       "    .dataframe tbody tr th {\n",
       "        vertical-align: top;\n",
       "    }\n",
       "\n",
       "    .dataframe thead th {\n",
       "        text-align: right;\n",
       "    }\n",
       "</style>\n",
       "<table border=\"1\" class=\"dataframe\">\n",
       "  <thead>\n",
       "    <tr style=\"text-align: right;\">\n",
       "      <th></th>\n",
       "      <th>1</th>\n",
       "      <th>2</th>\n",
       "      <th>3</th>\n",
       "      <th>4</th>\n",
       "    </tr>\n",
       "  </thead>\n",
       "  <tbody>\n",
       "    <tr>\n",
       "      <th>2023-03-01</th>\n",
       "      <td>-1.389486</td>\n",
       "      <td>-1.172467</td>\n",
       "      <td>0.500847</td>\n",
       "      <td>0.136984</td>\n",
       "    </tr>\n",
       "    <tr>\n",
       "      <th>2023-03-02</th>\n",
       "      <td>0.755093</td>\n",
       "      <td>0.089185</td>\n",
       "      <td>0.295046</td>\n",
       "      <td>-0.801574</td>\n",
       "    </tr>\n",
       "  </tbody>\n",
       "</table>\n",
       "</div>"
      ],
      "text/plain": [
       "                   1         2         3         4\n",
       "2023-03-01 -1.389486 -1.172467  0.500847  0.136984\n",
       "2023-03-02  0.755093  0.089185  0.295046 -0.801574"
      ]
     },
     "execution_count": 17,
     "metadata": {},
     "output_type": "execute_result"
    }
   ],
   "source": [
    "df.tail(2)"
   ]
  },
  {
   "cell_type": "code",
   "execution_count": 19,
   "id": "bf586132",
   "metadata": {},
   "outputs": [
    {
     "data": {
      "text/plain": [
       "DatetimeIndex(['2023-02-21', '2023-02-22', '2023-02-23', '2023-02-24',\n",
       "               '2023-02-25', '2023-02-26', '2023-02-27', '2023-02-28',\n",
       "               '2023-03-01', '2023-03-02'],\n",
       "              dtype='datetime64[ns]', freq='D')"
      ]
     },
     "execution_count": 19,
     "metadata": {},
     "output_type": "execute_result"
    }
   ],
   "source": [
    "df.index"
   ]
  },
  {
   "cell_type": "code",
   "execution_count": 20,
   "id": "0749a242",
   "metadata": {},
   "outputs": [
    {
     "data": {
      "text/plain": [
       "Int64Index([1, 2, 3, 4], dtype='int64')"
      ]
     },
     "execution_count": 20,
     "metadata": {},
     "output_type": "execute_result"
    }
   ],
   "source": [
    "df.columns"
   ]
  },
  {
   "cell_type": "code",
   "execution_count": 21,
   "id": "ad91c711",
   "metadata": {},
   "outputs": [
    {
     "data": {
      "text/plain": [
       "array([[-0.32334721, -1.70656545, -0.01481975,  1.01896276],\n",
       "       [ 1.65158448,  0.36408488,  0.83774468,  0.16681581],\n",
       "       [ 0.17826478,  1.38815291, -0.87572146,  0.26702374],\n",
       "       [-0.34291102,  1.13425591, -1.52251655, -0.33452193],\n",
       "       [-0.70102267, -0.63191563, -0.36016673, -1.0633095 ],\n",
       "       [-1.57576297, -1.16900746,  1.23471437, -1.19981184],\n",
       "       [ 0.0651218 ,  1.01197517,  0.52801708, -0.73166608],\n",
       "       [-1.13664442,  0.63596415, -0.36266216,  0.19230548],\n",
       "       [-1.38948612, -1.17246705,  0.5008466 ,  0.13698395],\n",
       "       [ 0.75509254,  0.08918457,  0.29504574, -0.80157439]])"
      ]
     },
     "execution_count": 21,
     "metadata": {},
     "output_type": "execute_result"
    }
   ],
   "source": [
    "df.to_numpy()"
   ]
  },
  {
   "cell_type": "code",
   "execution_count": 22,
   "id": "10b32e6b",
   "metadata": {},
   "outputs": [
    {
     "data": {
      "text/html": [
       "<div>\n",
       "<style scoped>\n",
       "    .dataframe tbody tr th:only-of-type {\n",
       "        vertical-align: middle;\n",
       "    }\n",
       "\n",
       "    .dataframe tbody tr th {\n",
       "        vertical-align: top;\n",
       "    }\n",
       "\n",
       "    .dataframe thead th {\n",
       "        text-align: right;\n",
       "    }\n",
       "</style>\n",
       "<table border=\"1\" class=\"dataframe\">\n",
       "  <thead>\n",
       "    <tr style=\"text-align: right;\">\n",
       "      <th></th>\n",
       "      <th>1</th>\n",
       "      <th>2</th>\n",
       "      <th>3</th>\n",
       "      <th>4</th>\n",
       "    </tr>\n",
       "  </thead>\n",
       "  <tbody>\n",
       "    <tr>\n",
       "      <th>count</th>\n",
       "      <td>10.000000</td>\n",
       "      <td>10.000000</td>\n",
       "      <td>10.000000</td>\n",
       "      <td>10.000000</td>\n",
       "    </tr>\n",
       "    <tr>\n",
       "      <th>mean</th>\n",
       "      <td>-0.281911</td>\n",
       "      <td>-0.005634</td>\n",
       "      <td>0.026048</td>\n",
       "      <td>-0.234879</td>\n",
       "    </tr>\n",
       "    <tr>\n",
       "      <th>std</th>\n",
       "      <td>0.997687</td>\n",
       "      <td>1.097228</td>\n",
       "      <td>0.828832</td>\n",
       "      <td>0.707218</td>\n",
       "    </tr>\n",
       "    <tr>\n",
       "      <th>min</th>\n",
       "      <td>-1.575763</td>\n",
       "      <td>-1.706565</td>\n",
       "      <td>-1.522517</td>\n",
       "      <td>-1.199812</td>\n",
       "    </tr>\n",
       "    <tr>\n",
       "      <th>25%</th>\n",
       "      <td>-1.027739</td>\n",
       "      <td>-1.034735</td>\n",
       "      <td>-0.362038</td>\n",
       "      <td>-0.784097</td>\n",
       "    </tr>\n",
       "    <tr>\n",
       "      <th>50%</th>\n",
       "      <td>-0.333129</td>\n",
       "      <td>0.226635</td>\n",
       "      <td>0.140113</td>\n",
       "      <td>-0.098769</td>\n",
       "    </tr>\n",
       "    <tr>\n",
       "      <th>75%</th>\n",
       "      <td>0.149979</td>\n",
       "      <td>0.917972</td>\n",
       "      <td>0.521224</td>\n",
       "      <td>0.185933</td>\n",
       "    </tr>\n",
       "    <tr>\n",
       "      <th>max</th>\n",
       "      <td>1.651584</td>\n",
       "      <td>1.388153</td>\n",
       "      <td>1.234714</td>\n",
       "      <td>1.018963</td>\n",
       "    </tr>\n",
       "  </tbody>\n",
       "</table>\n",
       "</div>"
      ],
      "text/plain": [
       "               1          2          3          4\n",
       "count  10.000000  10.000000  10.000000  10.000000\n",
       "mean   -0.281911  -0.005634   0.026048  -0.234879\n",
       "std     0.997687   1.097228   0.828832   0.707218\n",
       "min    -1.575763  -1.706565  -1.522517  -1.199812\n",
       "25%    -1.027739  -1.034735  -0.362038  -0.784097\n",
       "50%    -0.333129   0.226635   0.140113  -0.098769\n",
       "75%     0.149979   0.917972   0.521224   0.185933\n",
       "max     1.651584   1.388153   1.234714   1.018963"
      ]
     },
     "execution_count": 22,
     "metadata": {},
     "output_type": "execute_result"
    }
   ],
   "source": [
    "df.describe()"
   ]
  },
  {
   "cell_type": "code",
   "execution_count": 74,
   "id": "963597f8",
   "metadata": {},
   "outputs": [
    {
     "data": {
      "text/html": [
       "<div>\n",
       "<style scoped>\n",
       "    .dataframe tbody tr th:only-of-type {\n",
       "        vertical-align: middle;\n",
       "    }\n",
       "\n",
       "    .dataframe tbody tr th {\n",
       "        vertical-align: top;\n",
       "    }\n",
       "\n",
       "    .dataframe thead th {\n",
       "        text-align: right;\n",
       "    }\n",
       "</style>\n",
       "<table border=\"1\" class=\"dataframe\">\n",
       "  <thead>\n",
       "    <tr style=\"text-align: right;\">\n",
       "      <th></th>\n",
       "      <th>4</th>\n",
       "      <th>3</th>\n",
       "      <th>2</th>\n",
       "      <th>1</th>\n",
       "    </tr>\n",
       "  </thead>\n",
       "  <tbody>\n",
       "    <tr>\n",
       "      <th>2023-02-21</th>\n",
       "      <td>1.018963</td>\n",
       "      <td>-0.014820</td>\n",
       "      <td>-1.706565</td>\n",
       "      <td>-0.323347</td>\n",
       "    </tr>\n",
       "    <tr>\n",
       "      <th>2023-02-22</th>\n",
       "      <td>0.166816</td>\n",
       "      <td>0.837745</td>\n",
       "      <td>0.364085</td>\n",
       "      <td>1.651584</td>\n",
       "    </tr>\n",
       "    <tr>\n",
       "      <th>2023-02-23</th>\n",
       "      <td>0.267024</td>\n",
       "      <td>-0.875721</td>\n",
       "      <td>1.388153</td>\n",
       "      <td>0.178265</td>\n",
       "    </tr>\n",
       "    <tr>\n",
       "      <th>2023-02-24</th>\n",
       "      <td>-0.334522</td>\n",
       "      <td>-1.522517</td>\n",
       "      <td>1.134256</td>\n",
       "      <td>-0.342911</td>\n",
       "    </tr>\n",
       "    <tr>\n",
       "      <th>2023-02-25</th>\n",
       "      <td>-1.063309</td>\n",
       "      <td>-0.360167</td>\n",
       "      <td>-0.631916</td>\n",
       "      <td>-0.701023</td>\n",
       "    </tr>\n",
       "    <tr>\n",
       "      <th>2023-02-26</th>\n",
       "      <td>-1.199812</td>\n",
       "      <td>1.234714</td>\n",
       "      <td>-1.169007</td>\n",
       "      <td>-1.575763</td>\n",
       "    </tr>\n",
       "    <tr>\n",
       "      <th>2023-02-27</th>\n",
       "      <td>-0.731666</td>\n",
       "      <td>0.528017</td>\n",
       "      <td>1.011975</td>\n",
       "      <td>0.065122</td>\n",
       "    </tr>\n",
       "    <tr>\n",
       "      <th>2023-02-28</th>\n",
       "      <td>0.192305</td>\n",
       "      <td>-0.362662</td>\n",
       "      <td>0.635964</td>\n",
       "      <td>-1.136644</td>\n",
       "    </tr>\n",
       "    <tr>\n",
       "      <th>2023-03-01</th>\n",
       "      <td>0.136984</td>\n",
       "      <td>0.500847</td>\n",
       "      <td>-1.172467</td>\n",
       "      <td>-1.389486</td>\n",
       "    </tr>\n",
       "    <tr>\n",
       "      <th>2023-03-02</th>\n",
       "      <td>-0.801574</td>\n",
       "      <td>0.295046</td>\n",
       "      <td>0.089185</td>\n",
       "      <td>0.755093</td>\n",
       "    </tr>\n",
       "  </tbody>\n",
       "</table>\n",
       "</div>"
      ],
      "text/plain": [
       "                   4         3         2         1\n",
       "2023-02-21  1.018963 -0.014820 -1.706565 -0.323347\n",
       "2023-02-22  0.166816  0.837745  0.364085  1.651584\n",
       "2023-02-23  0.267024 -0.875721  1.388153  0.178265\n",
       "2023-02-24 -0.334522 -1.522517  1.134256 -0.342911\n",
       "2023-02-25 -1.063309 -0.360167 -0.631916 -0.701023\n",
       "2023-02-26 -1.199812  1.234714 -1.169007 -1.575763\n",
       "2023-02-27 -0.731666  0.528017  1.011975  0.065122\n",
       "2023-02-28  0.192305 -0.362662  0.635964 -1.136644\n",
       "2023-03-01  0.136984  0.500847 -1.172467 -1.389486\n",
       "2023-03-02 -0.801574  0.295046  0.089185  0.755093"
      ]
     },
     "execution_count": 74,
     "metadata": {},
     "output_type": "execute_result"
    }
   ],
   "source": [
    "df.sort_index(axis=1, ascending=False)"
   ]
  },
  {
   "cell_type": "code",
   "execution_count": 32,
   "id": "d9e799ce",
   "metadata": {},
   "outputs": [
    {
     "data": {
      "text/html": [
       "<div>\n",
       "<style scoped>\n",
       "    .dataframe tbody tr th:only-of-type {\n",
       "        vertical-align: middle;\n",
       "    }\n",
       "\n",
       "    .dataframe tbody tr th {\n",
       "        vertical-align: top;\n",
       "    }\n",
       "\n",
       "    .dataframe thead th {\n",
       "        text-align: right;\n",
       "    }\n",
       "</style>\n",
       "<table border=\"1\" class=\"dataframe\">\n",
       "  <thead>\n",
       "    <tr style=\"text-align: right;\">\n",
       "      <th></th>\n",
       "      <th>1</th>\n",
       "      <th>2</th>\n",
       "      <th>3</th>\n",
       "      <th>4</th>\n",
       "    </tr>\n",
       "  </thead>\n",
       "  <tbody>\n",
       "    <tr>\n",
       "      <th>2023-02-24</th>\n",
       "      <td>-0.342911</td>\n",
       "      <td>1.134256</td>\n",
       "      <td>-1.522517</td>\n",
       "      <td>-0.334522</td>\n",
       "    </tr>\n",
       "    <tr>\n",
       "      <th>2023-02-23</th>\n",
       "      <td>0.178265</td>\n",
       "      <td>1.388153</td>\n",
       "      <td>-0.875721</td>\n",
       "      <td>0.267024</td>\n",
       "    </tr>\n",
       "    <tr>\n",
       "      <th>2023-02-28</th>\n",
       "      <td>-1.136644</td>\n",
       "      <td>0.635964</td>\n",
       "      <td>-0.362662</td>\n",
       "      <td>0.192305</td>\n",
       "    </tr>\n",
       "    <tr>\n",
       "      <th>2023-02-25</th>\n",
       "      <td>-0.701023</td>\n",
       "      <td>-0.631916</td>\n",
       "      <td>-0.360167</td>\n",
       "      <td>-1.063309</td>\n",
       "    </tr>\n",
       "    <tr>\n",
       "      <th>2023-02-21</th>\n",
       "      <td>-0.323347</td>\n",
       "      <td>-1.706565</td>\n",
       "      <td>-0.014820</td>\n",
       "      <td>1.018963</td>\n",
       "    </tr>\n",
       "    <tr>\n",
       "      <th>2023-03-02</th>\n",
       "      <td>0.755093</td>\n",
       "      <td>0.089185</td>\n",
       "      <td>0.295046</td>\n",
       "      <td>-0.801574</td>\n",
       "    </tr>\n",
       "    <tr>\n",
       "      <th>2023-03-01</th>\n",
       "      <td>-1.389486</td>\n",
       "      <td>-1.172467</td>\n",
       "      <td>0.500847</td>\n",
       "      <td>0.136984</td>\n",
       "    </tr>\n",
       "    <tr>\n",
       "      <th>2023-02-27</th>\n",
       "      <td>0.065122</td>\n",
       "      <td>1.011975</td>\n",
       "      <td>0.528017</td>\n",
       "      <td>-0.731666</td>\n",
       "    </tr>\n",
       "    <tr>\n",
       "      <th>2023-02-22</th>\n",
       "      <td>1.651584</td>\n",
       "      <td>0.364085</td>\n",
       "      <td>0.837745</td>\n",
       "      <td>0.166816</td>\n",
       "    </tr>\n",
       "    <tr>\n",
       "      <th>2023-02-26</th>\n",
       "      <td>-1.575763</td>\n",
       "      <td>-1.169007</td>\n",
       "      <td>1.234714</td>\n",
       "      <td>-1.199812</td>\n",
       "    </tr>\n",
       "  </tbody>\n",
       "</table>\n",
       "</div>"
      ],
      "text/plain": [
       "                   1         2         3         4\n",
       "2023-02-24 -0.342911  1.134256 -1.522517 -0.334522\n",
       "2023-02-23  0.178265  1.388153 -0.875721  0.267024\n",
       "2023-02-28 -1.136644  0.635964 -0.362662  0.192305\n",
       "2023-02-25 -0.701023 -0.631916 -0.360167 -1.063309\n",
       "2023-02-21 -0.323347 -1.706565 -0.014820  1.018963\n",
       "2023-03-02  0.755093  0.089185  0.295046 -0.801574\n",
       "2023-03-01 -1.389486 -1.172467  0.500847  0.136984\n",
       "2023-02-27  0.065122  1.011975  0.528017 -0.731666\n",
       "2023-02-22  1.651584  0.364085  0.837745  0.166816\n",
       "2023-02-26 -1.575763 -1.169007  1.234714 -1.199812"
      ]
     },
     "execution_count": 32,
     "metadata": {},
     "output_type": "execute_result"
    }
   ],
   "source": [
    "df.sort_values(by=3)"
   ]
  },
  {
   "cell_type": "code",
   "execution_count": 33,
   "id": "6cc9d1e3",
   "metadata": {},
   "outputs": [
    {
     "data": {
      "text/plain": [
       "2023-02-21   -0.323347\n",
       "2023-02-22    1.651584\n",
       "2023-02-23    0.178265\n",
       "2023-02-24   -0.342911\n",
       "2023-02-25   -0.701023\n",
       "2023-02-26   -1.575763\n",
       "2023-02-27    0.065122\n",
       "2023-02-28   -1.136644\n",
       "2023-03-01   -1.389486\n",
       "2023-03-02    0.755093\n",
       "Freq: D, Name: 1, dtype: float64"
      ]
     },
     "execution_count": 33,
     "metadata": {},
     "output_type": "execute_result"
    }
   ],
   "source": [
    "df[1]"
   ]
  },
  {
   "cell_type": "code",
   "execution_count": 34,
   "id": "4261913b",
   "metadata": {},
   "outputs": [
    {
     "data": {
      "text/html": [
       "<div>\n",
       "<style scoped>\n",
       "    .dataframe tbody tr th:only-of-type {\n",
       "        vertical-align: middle;\n",
       "    }\n",
       "\n",
       "    .dataframe tbody tr th {\n",
       "        vertical-align: top;\n",
       "    }\n",
       "\n",
       "    .dataframe thead th {\n",
       "        text-align: right;\n",
       "    }\n",
       "</style>\n",
       "<table border=\"1\" class=\"dataframe\">\n",
       "  <thead>\n",
       "    <tr style=\"text-align: right;\">\n",
       "      <th></th>\n",
       "      <th>1</th>\n",
       "      <th>2</th>\n",
       "      <th>3</th>\n",
       "      <th>4</th>\n",
       "    </tr>\n",
       "  </thead>\n",
       "  <tbody>\n",
       "    <tr>\n",
       "      <th>2023-02-21</th>\n",
       "      <td>-0.323347</td>\n",
       "      <td>-1.706565</td>\n",
       "      <td>-0.014820</td>\n",
       "      <td>1.018963</td>\n",
       "    </tr>\n",
       "    <tr>\n",
       "      <th>2023-02-22</th>\n",
       "      <td>1.651584</td>\n",
       "      <td>0.364085</td>\n",
       "      <td>0.837745</td>\n",
       "      <td>0.166816</td>\n",
       "    </tr>\n",
       "  </tbody>\n",
       "</table>\n",
       "</div>"
      ],
      "text/plain": [
       "                   1         2         3         4\n",
       "2023-02-21 -0.323347 -1.706565 -0.014820  1.018963\n",
       "2023-02-22  1.651584  0.364085  0.837745  0.166816"
      ]
     },
     "execution_count": 34,
     "metadata": {},
     "output_type": "execute_result"
    }
   ],
   "source": [
    "df[0:2]"
   ]
  },
  {
   "cell_type": "code",
   "execution_count": 35,
   "id": "fc9a178d",
   "metadata": {},
   "outputs": [
    {
     "data": {
      "text/plain": [
       "1   -0.323347\n",
       "2   -1.706565\n",
       "3   -0.014820\n",
       "4    1.018963\n",
       "Name: 2023-02-21 00:00:00, dtype: float64"
      ]
     },
     "execution_count": 35,
     "metadata": {},
     "output_type": "execute_result"
    }
   ],
   "source": [
    "df.loc[d[0]]"
   ]
  },
  {
   "cell_type": "code",
   "execution_count": 36,
   "id": "f2bf60b1",
   "metadata": {},
   "outputs": [
    {
     "data": {
      "text/html": [
       "<div>\n",
       "<style scoped>\n",
       "    .dataframe tbody tr th:only-of-type {\n",
       "        vertical-align: middle;\n",
       "    }\n",
       "\n",
       "    .dataframe tbody tr th {\n",
       "        vertical-align: top;\n",
       "    }\n",
       "\n",
       "    .dataframe thead th {\n",
       "        text-align: right;\n",
       "    }\n",
       "</style>\n",
       "<table border=\"1\" class=\"dataframe\">\n",
       "  <thead>\n",
       "    <tr style=\"text-align: right;\">\n",
       "      <th></th>\n",
       "      <th>1</th>\n",
       "      <th>3</th>\n",
       "    </tr>\n",
       "  </thead>\n",
       "  <tbody>\n",
       "    <tr>\n",
       "      <th>2023-02-21</th>\n",
       "      <td>-0.323347</td>\n",
       "      <td>-0.014820</td>\n",
       "    </tr>\n",
       "    <tr>\n",
       "      <th>2023-02-22</th>\n",
       "      <td>1.651584</td>\n",
       "      <td>0.837745</td>\n",
       "    </tr>\n",
       "    <tr>\n",
       "      <th>2023-02-23</th>\n",
       "      <td>0.178265</td>\n",
       "      <td>-0.875721</td>\n",
       "    </tr>\n",
       "    <tr>\n",
       "      <th>2023-02-24</th>\n",
       "      <td>-0.342911</td>\n",
       "      <td>-1.522517</td>\n",
       "    </tr>\n",
       "    <tr>\n",
       "      <th>2023-02-25</th>\n",
       "      <td>-0.701023</td>\n",
       "      <td>-0.360167</td>\n",
       "    </tr>\n",
       "    <tr>\n",
       "      <th>2023-02-26</th>\n",
       "      <td>-1.575763</td>\n",
       "      <td>1.234714</td>\n",
       "    </tr>\n",
       "    <tr>\n",
       "      <th>2023-02-27</th>\n",
       "      <td>0.065122</td>\n",
       "      <td>0.528017</td>\n",
       "    </tr>\n",
       "    <tr>\n",
       "      <th>2023-02-28</th>\n",
       "      <td>-1.136644</td>\n",
       "      <td>-0.362662</td>\n",
       "    </tr>\n",
       "    <tr>\n",
       "      <th>2023-03-01</th>\n",
       "      <td>-1.389486</td>\n",
       "      <td>0.500847</td>\n",
       "    </tr>\n",
       "    <tr>\n",
       "      <th>2023-03-02</th>\n",
       "      <td>0.755093</td>\n",
       "      <td>0.295046</td>\n",
       "    </tr>\n",
       "  </tbody>\n",
       "</table>\n",
       "</div>"
      ],
      "text/plain": [
       "                   1         3\n",
       "2023-02-21 -0.323347 -0.014820\n",
       "2023-02-22  1.651584  0.837745\n",
       "2023-02-23  0.178265 -0.875721\n",
       "2023-02-24 -0.342911 -1.522517\n",
       "2023-02-25 -0.701023 -0.360167\n",
       "2023-02-26 -1.575763  1.234714\n",
       "2023-02-27  0.065122  0.528017\n",
       "2023-02-28 -1.136644 -0.362662\n",
       "2023-03-01 -1.389486  0.500847\n",
       "2023-03-02  0.755093  0.295046"
      ]
     },
     "execution_count": 36,
     "metadata": {},
     "output_type": "execute_result"
    }
   ],
   "source": [
    "df.loc[:,[1,3]]"
   ]
  },
  {
   "cell_type": "code",
   "execution_count": 38,
   "id": "ea4c98c4",
   "metadata": {},
   "outputs": [
    {
     "data": {
      "text/html": [
       "<div>\n",
       "<style scoped>\n",
       "    .dataframe tbody tr th:only-of-type {\n",
       "        vertical-align: middle;\n",
       "    }\n",
       "\n",
       "    .dataframe tbody tr th {\n",
       "        vertical-align: top;\n",
       "    }\n",
       "\n",
       "    .dataframe thead th {\n",
       "        text-align: right;\n",
       "    }\n",
       "</style>\n",
       "<table border=\"1\" class=\"dataframe\">\n",
       "  <thead>\n",
       "    <tr style=\"text-align: right;\">\n",
       "      <th></th>\n",
       "      <th>2</th>\n",
       "      <th>4</th>\n",
       "    </tr>\n",
       "  </thead>\n",
       "  <tbody>\n",
       "    <tr>\n",
       "      <th>2023-02-25</th>\n",
       "      <td>-0.631916</td>\n",
       "      <td>-1.063309</td>\n",
       "    </tr>\n",
       "    <tr>\n",
       "      <th>2023-02-26</th>\n",
       "      <td>-1.169007</td>\n",
       "      <td>-1.199812</td>\n",
       "    </tr>\n",
       "    <tr>\n",
       "      <th>2023-02-27</th>\n",
       "      <td>1.011975</td>\n",
       "      <td>-0.731666</td>\n",
       "    </tr>\n",
       "    <tr>\n",
       "      <th>2023-02-28</th>\n",
       "      <td>0.635964</td>\n",
       "      <td>0.192305</td>\n",
       "    </tr>\n",
       "    <tr>\n",
       "      <th>2023-03-01</th>\n",
       "      <td>-1.172467</td>\n",
       "      <td>0.136984</td>\n",
       "    </tr>\n",
       "  </tbody>\n",
       "</table>\n",
       "</div>"
      ],
      "text/plain": [
       "                   2         4\n",
       "2023-02-25 -0.631916 -1.063309\n",
       "2023-02-26 -1.169007 -1.199812\n",
       "2023-02-27  1.011975 -0.731666\n",
       "2023-02-28  0.635964  0.192305\n",
       "2023-03-01 -1.172467  0.136984"
      ]
     },
     "execution_count": 38,
     "metadata": {},
     "output_type": "execute_result"
    }
   ],
   "source": [
    "df.loc[\"20230225\":\"20230301\",[2,4]]"
   ]
  },
  {
   "cell_type": "code",
   "execution_count": 39,
   "id": "4afd89e4",
   "metadata": {},
   "outputs": [
    {
     "data": {
      "text/plain": [
       "3   -0.014820\n",
       "1   -0.323347\n",
       "Name: 2023-02-21 00:00:00, dtype: float64"
      ]
     },
     "execution_count": 39,
     "metadata": {},
     "output_type": "execute_result"
    }
   ],
   "source": [
    "df.loc[d[0],[3,1]]"
   ]
  },
  {
   "cell_type": "code",
   "execution_count": 40,
   "id": "6c376048",
   "metadata": {},
   "outputs": [
    {
     "data": {
      "text/plain": [
       "1   -0.342911\n",
       "2    1.134256\n",
       "3   -1.522517\n",
       "4   -0.334522\n",
       "Name: 2023-02-24 00:00:00, dtype: float64"
      ]
     },
     "execution_count": 40,
     "metadata": {},
     "output_type": "execute_result"
    }
   ],
   "source": [
    "df.iloc[3]"
   ]
  },
  {
   "cell_type": "code",
   "execution_count": 42,
   "id": "dcbe262d",
   "metadata": {
    "scrolled": true
   },
   "outputs": [
    {
     "data": {
      "text/plain": [
       "1   -0.342911\n",
       "2    1.134256\n",
       "3   -1.522517\n",
       "4   -0.334522\n",
       "Name: 2023-02-24 00:00:00, dtype: float64"
      ]
     },
     "execution_count": 42,
     "metadata": {},
     "output_type": "execute_result"
    }
   ],
   "source": [
    "df.loc[d[3]]"
   ]
  },
  {
   "cell_type": "code",
   "execution_count": 43,
   "id": "dbcb94fb",
   "metadata": {},
   "outputs": [
    {
     "data": {
      "text/html": [
       "<div>\n",
       "<style scoped>\n",
       "    .dataframe tbody tr th:only-of-type {\n",
       "        vertical-align: middle;\n",
       "    }\n",
       "\n",
       "    .dataframe tbody tr th {\n",
       "        vertical-align: top;\n",
       "    }\n",
       "\n",
       "    .dataframe thead th {\n",
       "        text-align: right;\n",
       "    }\n",
       "</style>\n",
       "<table border=\"1\" class=\"dataframe\">\n",
       "  <thead>\n",
       "    <tr style=\"text-align: right;\">\n",
       "      <th></th>\n",
       "      <th>1</th>\n",
       "      <th>2</th>\n",
       "      <th>3</th>\n",
       "      <th>4</th>\n",
       "    </tr>\n",
       "  </thead>\n",
       "  <tbody>\n",
       "    <tr>\n",
       "      <th>2023-02-24</th>\n",
       "      <td>-0.342911</td>\n",
       "      <td>1.134256</td>\n",
       "      <td>-1.522517</td>\n",
       "      <td>-0.334522</td>\n",
       "    </tr>\n",
       "    <tr>\n",
       "      <th>2023-02-25</th>\n",
       "      <td>-0.701023</td>\n",
       "      <td>-0.631916</td>\n",
       "      <td>-0.360167</td>\n",
       "      <td>-1.063309</td>\n",
       "    </tr>\n",
       "  </tbody>\n",
       "</table>\n",
       "</div>"
      ],
      "text/plain": [
       "                   1         2         3         4\n",
       "2023-02-24 -0.342911  1.134256 -1.522517 -0.334522\n",
       "2023-02-25 -0.701023 -0.631916 -0.360167 -1.063309"
      ]
     },
     "execution_count": 43,
     "metadata": {},
     "output_type": "execute_result"
    }
   ],
   "source": [
    "df.iloc[3:5]"
   ]
  },
  {
   "cell_type": "code",
   "execution_count": 45,
   "id": "532d6f89",
   "metadata": {},
   "outputs": [
    {
     "data": {
      "text/html": [
       "<div>\n",
       "<style scoped>\n",
       "    .dataframe tbody tr th:only-of-type {\n",
       "        vertical-align: middle;\n",
       "    }\n",
       "\n",
       "    .dataframe tbody tr th {\n",
       "        vertical-align: top;\n",
       "    }\n",
       "\n",
       "    .dataframe thead th {\n",
       "        text-align: right;\n",
       "    }\n",
       "</style>\n",
       "<table border=\"1\" class=\"dataframe\">\n",
       "  <thead>\n",
       "    <tr style=\"text-align: right;\">\n",
       "      <th></th>\n",
       "      <th>2</th>\n",
       "      <th>3</th>\n",
       "    </tr>\n",
       "  </thead>\n",
       "  <tbody>\n",
       "    <tr>\n",
       "      <th>2023-02-24</th>\n",
       "      <td>1.134256</td>\n",
       "      <td>-1.522517</td>\n",
       "    </tr>\n",
       "    <tr>\n",
       "      <th>2023-02-25</th>\n",
       "      <td>-0.631916</td>\n",
       "      <td>-0.360167</td>\n",
       "    </tr>\n",
       "  </tbody>\n",
       "</table>\n",
       "</div>"
      ],
      "text/plain": [
       "                   2         3\n",
       "2023-02-24  1.134256 -1.522517\n",
       "2023-02-25 -0.631916 -0.360167"
      ]
     },
     "execution_count": 45,
     "metadata": {},
     "output_type": "execute_result"
    }
   ],
   "source": [
    "df.iloc[3:5,1:3]"
   ]
  },
  {
   "cell_type": "code",
   "execution_count": 47,
   "id": "b7c0d12c",
   "metadata": {},
   "outputs": [
    {
     "data": {
      "text/html": [
       "<div>\n",
       "<style scoped>\n",
       "    .dataframe tbody tr th:only-of-type {\n",
       "        vertical-align: middle;\n",
       "    }\n",
       "\n",
       "    .dataframe tbody tr th {\n",
       "        vertical-align: top;\n",
       "    }\n",
       "\n",
       "    .dataframe thead th {\n",
       "        text-align: right;\n",
       "    }\n",
       "</style>\n",
       "<table border=\"1\" class=\"dataframe\">\n",
       "  <thead>\n",
       "    <tr style=\"text-align: right;\">\n",
       "      <th></th>\n",
       "      <th>1</th>\n",
       "      <th>2</th>\n",
       "      <th>3</th>\n",
       "      <th>4</th>\n",
       "    </tr>\n",
       "  </thead>\n",
       "  <tbody>\n",
       "    <tr>\n",
       "      <th>2023-02-22</th>\n",
       "      <td>1.651584</td>\n",
       "      <td>0.364085</td>\n",
       "      <td>0.837745</td>\n",
       "      <td>0.166816</td>\n",
       "    </tr>\n",
       "    <tr>\n",
       "      <th>2023-02-23</th>\n",
       "      <td>0.178265</td>\n",
       "      <td>1.388153</td>\n",
       "      <td>-0.875721</td>\n",
       "      <td>0.267024</td>\n",
       "    </tr>\n",
       "    <tr>\n",
       "      <th>2023-02-24</th>\n",
       "      <td>-0.342911</td>\n",
       "      <td>1.134256</td>\n",
       "      <td>-1.522517</td>\n",
       "      <td>-0.334522</td>\n",
       "    </tr>\n",
       "    <tr>\n",
       "      <th>2023-02-27</th>\n",
       "      <td>0.065122</td>\n",
       "      <td>1.011975</td>\n",
       "      <td>0.528017</td>\n",
       "      <td>-0.731666</td>\n",
       "    </tr>\n",
       "    <tr>\n",
       "      <th>2023-02-28</th>\n",
       "      <td>-1.136644</td>\n",
       "      <td>0.635964</td>\n",
       "      <td>-0.362662</td>\n",
       "      <td>0.192305</td>\n",
       "    </tr>\n",
       "    <tr>\n",
       "      <th>2023-03-02</th>\n",
       "      <td>0.755093</td>\n",
       "      <td>0.089185</td>\n",
       "      <td>0.295046</td>\n",
       "      <td>-0.801574</td>\n",
       "    </tr>\n",
       "  </tbody>\n",
       "</table>\n",
       "</div>"
      ],
      "text/plain": [
       "                   1         2         3         4\n",
       "2023-02-22  1.651584  0.364085  0.837745  0.166816\n",
       "2023-02-23  0.178265  1.388153 -0.875721  0.267024\n",
       "2023-02-24 -0.342911  1.134256 -1.522517 -0.334522\n",
       "2023-02-27  0.065122  1.011975  0.528017 -0.731666\n",
       "2023-02-28 -1.136644  0.635964 -0.362662  0.192305\n",
       "2023-03-02  0.755093  0.089185  0.295046 -0.801574"
      ]
     },
     "execution_count": 47,
     "metadata": {},
     "output_type": "execute_result"
    }
   ],
   "source": [
    "df[df[2]>0]"
   ]
  },
  {
   "cell_type": "code",
   "execution_count": 48,
   "id": "a662ffc7",
   "metadata": {},
   "outputs": [
    {
     "data": {
      "text/html": [
       "<div>\n",
       "<style scoped>\n",
       "    .dataframe tbody tr th:only-of-type {\n",
       "        vertical-align: middle;\n",
       "    }\n",
       "\n",
       "    .dataframe tbody tr th {\n",
       "        vertical-align: top;\n",
       "    }\n",
       "\n",
       "    .dataframe thead th {\n",
       "        text-align: right;\n",
       "    }\n",
       "</style>\n",
       "<table border=\"1\" class=\"dataframe\">\n",
       "  <thead>\n",
       "    <tr style=\"text-align: right;\">\n",
       "      <th></th>\n",
       "      <th>1</th>\n",
       "      <th>2</th>\n",
       "      <th>3</th>\n",
       "      <th>4</th>\n",
       "    </tr>\n",
       "  </thead>\n",
       "  <tbody>\n",
       "    <tr>\n",
       "      <th>2023-02-23</th>\n",
       "      <td>0.178265</td>\n",
       "      <td>1.388153</td>\n",
       "      <td>-0.875721</td>\n",
       "      <td>0.267024</td>\n",
       "    </tr>\n",
       "    <tr>\n",
       "      <th>2023-02-24</th>\n",
       "      <td>-0.342911</td>\n",
       "      <td>1.134256</td>\n",
       "      <td>-1.522517</td>\n",
       "      <td>-0.334522</td>\n",
       "    </tr>\n",
       "    <tr>\n",
       "      <th>2023-02-27</th>\n",
       "      <td>0.065122</td>\n",
       "      <td>1.011975</td>\n",
       "      <td>0.528017</td>\n",
       "      <td>-0.731666</td>\n",
       "    </tr>\n",
       "  </tbody>\n",
       "</table>\n",
       "</div>"
      ],
      "text/plain": [
       "                   1         2         3         4\n",
       "2023-02-23  0.178265  1.388153 -0.875721  0.267024\n",
       "2023-02-24 -0.342911  1.134256 -1.522517 -0.334522\n",
       "2023-02-27  0.065122  1.011975  0.528017 -0.731666"
      ]
     },
     "execution_count": 48,
     "metadata": {},
     "output_type": "execute_result"
    }
   ],
   "source": [
    "df[df[2]>1]"
   ]
  },
  {
   "cell_type": "code",
   "execution_count": 53,
   "id": "28b9465d",
   "metadata": {},
   "outputs": [
    {
     "data": {
      "text/html": [
       "<div>\n",
       "<style scoped>\n",
       "    .dataframe tbody tr th:only-of-type {\n",
       "        vertical-align: middle;\n",
       "    }\n",
       "\n",
       "    .dataframe tbody tr th {\n",
       "        vertical-align: top;\n",
       "    }\n",
       "\n",
       "    .dataframe thead th {\n",
       "        text-align: right;\n",
       "    }\n",
       "</style>\n",
       "<table border=\"1\" class=\"dataframe\">\n",
       "  <thead>\n",
       "    <tr style=\"text-align: right;\">\n",
       "      <th></th>\n",
       "      <th>1</th>\n",
       "      <th>2</th>\n",
       "      <th>3</th>\n",
       "      <th>4</th>\n",
       "      <th>5</th>\n",
       "    </tr>\n",
       "  </thead>\n",
       "  <tbody>\n",
       "    <tr>\n",
       "      <th>2023-02-21</th>\n",
       "      <td>-0.323347</td>\n",
       "      <td>-1.706565</td>\n",
       "      <td>-0.014820</td>\n",
       "      <td>1.018963</td>\n",
       "      <td>1.0</td>\n",
       "    </tr>\n",
       "    <tr>\n",
       "      <th>2023-02-22</th>\n",
       "      <td>1.651584</td>\n",
       "      <td>0.364085</td>\n",
       "      <td>0.837745</td>\n",
       "      <td>0.166816</td>\n",
       "      <td>1.0</td>\n",
       "    </tr>\n",
       "    <tr>\n",
       "      <th>2023-02-23</th>\n",
       "      <td>0.178265</td>\n",
       "      <td>1.388153</td>\n",
       "      <td>-0.875721</td>\n",
       "      <td>0.267024</td>\n",
       "      <td>1.0</td>\n",
       "    </tr>\n",
       "    <tr>\n",
       "      <th>2023-02-24</th>\n",
       "      <td>-0.342911</td>\n",
       "      <td>1.134256</td>\n",
       "      <td>-1.522517</td>\n",
       "      <td>-0.334522</td>\n",
       "      <td>NaN</td>\n",
       "    </tr>\n",
       "    <tr>\n",
       "      <th>2023-02-25</th>\n",
       "      <td>-0.701023</td>\n",
       "      <td>-0.631916</td>\n",
       "      <td>-0.360167</td>\n",
       "      <td>-1.063309</td>\n",
       "      <td>NaN</td>\n",
       "    </tr>\n",
       "  </tbody>\n",
       "</table>\n",
       "</div>"
      ],
      "text/plain": [
       "                   1         2         3         4    5\n",
       "2023-02-21 -0.323347 -1.706565 -0.014820  1.018963  1.0\n",
       "2023-02-22  1.651584  0.364085  0.837745  0.166816  1.0\n",
       "2023-02-23  0.178265  1.388153 -0.875721  0.267024  1.0\n",
       "2023-02-24 -0.342911  1.134256 -1.522517 -0.334522  NaN\n",
       "2023-02-25 -0.701023 -0.631916 -0.360167 -1.063309  NaN"
      ]
     },
     "execution_count": 53,
     "metadata": {},
     "output_type": "execute_result"
    }
   ],
   "source": [
    "df2=df.reindex(index=d[0:5],columns=list(df.columns)+[5])\n",
    "df2.loc[d[0]:d[2], 5]=1\n",
    "df2\n"
   ]
  },
  {
   "cell_type": "code",
   "execution_count": 54,
   "id": "44f5bfe5",
   "metadata": {},
   "outputs": [
    {
     "data": {
      "text/html": [
       "<div>\n",
       "<style scoped>\n",
       "    .dataframe tbody tr th:only-of-type {\n",
       "        vertical-align: middle;\n",
       "    }\n",
       "\n",
       "    .dataframe tbody tr th {\n",
       "        vertical-align: top;\n",
       "    }\n",
       "\n",
       "    .dataframe thead th {\n",
       "        text-align: right;\n",
       "    }\n",
       "</style>\n",
       "<table border=\"1\" class=\"dataframe\">\n",
       "  <thead>\n",
       "    <tr style=\"text-align: right;\">\n",
       "      <th></th>\n",
       "      <th>1</th>\n",
       "      <th>2</th>\n",
       "      <th>3</th>\n",
       "      <th>4</th>\n",
       "      <th>5</th>\n",
       "    </tr>\n",
       "  </thead>\n",
       "  <tbody>\n",
       "    <tr>\n",
       "      <th>2023-02-21</th>\n",
       "      <td>False</td>\n",
       "      <td>False</td>\n",
       "      <td>False</td>\n",
       "      <td>False</td>\n",
       "      <td>False</td>\n",
       "    </tr>\n",
       "    <tr>\n",
       "      <th>2023-02-22</th>\n",
       "      <td>False</td>\n",
       "      <td>False</td>\n",
       "      <td>False</td>\n",
       "      <td>False</td>\n",
       "      <td>False</td>\n",
       "    </tr>\n",
       "    <tr>\n",
       "      <th>2023-02-23</th>\n",
       "      <td>False</td>\n",
       "      <td>False</td>\n",
       "      <td>False</td>\n",
       "      <td>False</td>\n",
       "      <td>False</td>\n",
       "    </tr>\n",
       "    <tr>\n",
       "      <th>2023-02-24</th>\n",
       "      <td>False</td>\n",
       "      <td>False</td>\n",
       "      <td>False</td>\n",
       "      <td>False</td>\n",
       "      <td>True</td>\n",
       "    </tr>\n",
       "    <tr>\n",
       "      <th>2023-02-25</th>\n",
       "      <td>False</td>\n",
       "      <td>False</td>\n",
       "      <td>False</td>\n",
       "      <td>False</td>\n",
       "      <td>True</td>\n",
       "    </tr>\n",
       "  </tbody>\n",
       "</table>\n",
       "</div>"
      ],
      "text/plain": [
       "                1      2      3      4      5\n",
       "2023-02-21  False  False  False  False  False\n",
       "2023-02-22  False  False  False  False  False\n",
       "2023-02-23  False  False  False  False  False\n",
       "2023-02-24  False  False  False  False   True\n",
       "2023-02-25  False  False  False  False   True"
      ]
     },
     "execution_count": 54,
     "metadata": {},
     "output_type": "execute_result"
    }
   ],
   "source": [
    "df2.isnull()"
   ]
  },
  {
   "cell_type": "code",
   "execution_count": 56,
   "id": "037bfed7",
   "metadata": {},
   "outputs": [
    {
     "data": {
      "text/html": [
       "<div>\n",
       "<style scoped>\n",
       "    .dataframe tbody tr th:only-of-type {\n",
       "        vertical-align: middle;\n",
       "    }\n",
       "\n",
       "    .dataframe tbody tr th {\n",
       "        vertical-align: top;\n",
       "    }\n",
       "\n",
       "    .dataframe thead th {\n",
       "        text-align: right;\n",
       "    }\n",
       "</style>\n",
       "<table border=\"1\" class=\"dataframe\">\n",
       "  <thead>\n",
       "    <tr style=\"text-align: right;\">\n",
       "      <th></th>\n",
       "      <th>1</th>\n",
       "      <th>2</th>\n",
       "      <th>3</th>\n",
       "      <th>4</th>\n",
       "      <th>5</th>\n",
       "    </tr>\n",
       "  </thead>\n",
       "  <tbody>\n",
       "    <tr>\n",
       "      <th>2023-02-21</th>\n",
       "      <td>-0.323347</td>\n",
       "      <td>-1.706565</td>\n",
       "      <td>-0.014820</td>\n",
       "      <td>1.018963</td>\n",
       "      <td>1.0</td>\n",
       "    </tr>\n",
       "    <tr>\n",
       "      <th>2023-02-22</th>\n",
       "      <td>1.651584</td>\n",
       "      <td>0.364085</td>\n",
       "      <td>0.837745</td>\n",
       "      <td>0.166816</td>\n",
       "      <td>1.0</td>\n",
       "    </tr>\n",
       "    <tr>\n",
       "      <th>2023-02-23</th>\n",
       "      <td>0.178265</td>\n",
       "      <td>1.388153</td>\n",
       "      <td>-0.875721</td>\n",
       "      <td>0.267024</td>\n",
       "      <td>1.0</td>\n",
       "    </tr>\n",
       "  </tbody>\n",
       "</table>\n",
       "</div>"
      ],
      "text/plain": [
       "                   1         2         3         4    5\n",
       "2023-02-21 -0.323347 -1.706565 -0.014820  1.018963  1.0\n",
       "2023-02-22  1.651584  0.364085  0.837745  0.166816  1.0\n",
       "2023-02-23  0.178265  1.388153 -0.875721  0.267024  1.0"
      ]
     },
     "execution_count": 56,
     "metadata": {},
     "output_type": "execute_result"
    }
   ],
   "source": [
    "df2.dropna()"
   ]
  },
  {
   "cell_type": "code",
   "execution_count": 57,
   "id": "e908c3b7",
   "metadata": {},
   "outputs": [
    {
     "data": {
      "text/html": [
       "<div>\n",
       "<style scoped>\n",
       "    .dataframe tbody tr th:only-of-type {\n",
       "        vertical-align: middle;\n",
       "    }\n",
       "\n",
       "    .dataframe tbody tr th {\n",
       "        vertical-align: top;\n",
       "    }\n",
       "\n",
       "    .dataframe thead th {\n",
       "        text-align: right;\n",
       "    }\n",
       "</style>\n",
       "<table border=\"1\" class=\"dataframe\">\n",
       "  <thead>\n",
       "    <tr style=\"text-align: right;\">\n",
       "      <th></th>\n",
       "      <th>1</th>\n",
       "      <th>2</th>\n",
       "      <th>3</th>\n",
       "      <th>4</th>\n",
       "      <th>5</th>\n",
       "    </tr>\n",
       "  </thead>\n",
       "  <tbody>\n",
       "    <tr>\n",
       "      <th>2023-02-21</th>\n",
       "      <td>-0.323347</td>\n",
       "      <td>-1.706565</td>\n",
       "      <td>-0.014820</td>\n",
       "      <td>1.018963</td>\n",
       "      <td>1.0</td>\n",
       "    </tr>\n",
       "    <tr>\n",
       "      <th>2023-02-22</th>\n",
       "      <td>1.651584</td>\n",
       "      <td>0.364085</td>\n",
       "      <td>0.837745</td>\n",
       "      <td>0.166816</td>\n",
       "      <td>1.0</td>\n",
       "    </tr>\n",
       "    <tr>\n",
       "      <th>2023-02-23</th>\n",
       "      <td>0.178265</td>\n",
       "      <td>1.388153</td>\n",
       "      <td>-0.875721</td>\n",
       "      <td>0.267024</td>\n",
       "      <td>1.0</td>\n",
       "    </tr>\n",
       "    <tr>\n",
       "      <th>2023-02-24</th>\n",
       "      <td>-0.342911</td>\n",
       "      <td>1.134256</td>\n",
       "      <td>-1.522517</td>\n",
       "      <td>-0.334522</td>\n",
       "      <td>5.0</td>\n",
       "    </tr>\n",
       "    <tr>\n",
       "      <th>2023-02-25</th>\n",
       "      <td>-0.701023</td>\n",
       "      <td>-0.631916</td>\n",
       "      <td>-0.360167</td>\n",
       "      <td>-1.063309</td>\n",
       "      <td>5.0</td>\n",
       "    </tr>\n",
       "  </tbody>\n",
       "</table>\n",
       "</div>"
      ],
      "text/plain": [
       "                   1         2         3         4    5\n",
       "2023-02-21 -0.323347 -1.706565 -0.014820  1.018963  1.0\n",
       "2023-02-22  1.651584  0.364085  0.837745  0.166816  1.0\n",
       "2023-02-23  0.178265  1.388153 -0.875721  0.267024  1.0\n",
       "2023-02-24 -0.342911  1.134256 -1.522517 -0.334522  5.0\n",
       "2023-02-25 -0.701023 -0.631916 -0.360167 -1.063309  5.0"
      ]
     },
     "execution_count": 57,
     "metadata": {},
     "output_type": "execute_result"
    }
   ],
   "source": [
    "df2.fillna(value=5)"
   ]
  },
  {
   "cell_type": "code",
   "execution_count": 59,
   "id": "7dd60a65",
   "metadata": {},
   "outputs": [
    {
     "data": {
      "text/plain": [
       "1    0.092514\n",
       "2    0.109603\n",
       "3   -0.387096\n",
       "4    0.010994\n",
       "5    1.000000\n",
       "dtype: float64"
      ]
     },
     "execution_count": 59,
     "metadata": {},
     "output_type": "execute_result"
    }
   ],
   "source": [
    "df2.mean()"
   ]
  },
  {
   "cell_type": "code",
   "execution_count": 62,
   "id": "50c7b89e",
   "metadata": {
    "scrolled": true
   },
   "outputs": [
    {
     "data": {
      "text/plain": [
       "2023-02-21    NaN\n",
       "2023-02-22    NaN\n",
       "2023-02-23    NaN\n",
       "2023-02-24    1.0\n",
       "2023-02-25    2.0\n",
       "2023-02-26    3.0\n",
       "2023-02-27    NaN\n",
       "2023-02-28    4.0\n",
       "2023-03-01    5.0\n",
       "2023-03-02    6.0\n",
       "Freq: D, dtype: float64"
      ]
     },
     "execution_count": 62,
     "metadata": {},
     "output_type": "execute_result"
    }
   ],
   "source": [
    "s = pd.Series([1,2,3,np.nan,4,5,6,7,8,9], index=d).shift(3)\n",
    "s"
   ]
  },
  {
   "cell_type": "code",
   "execution_count": 70,
   "id": "c4122690",
   "metadata": {},
   "outputs": [
    {
     "name": "stdout",
     "output_type": "stream",
     "text": [
      "2023-02-21    NaN\n",
      "2023-02-22    NaN\n",
      "2023-02-23    NaN\n",
      "2023-02-24    1.0\n",
      "2023-02-25    2.0\n",
      "2023-02-26    3.0\n",
      "2023-02-27    NaN\n",
      "2023-02-28    4.0\n",
      "2023-03-01    5.0\n",
      "2023-03-02    6.0\n",
      "Freq: D, dtype: float64\n",
      "                   1         2         3         4\n",
      "2023-02-21 -0.323347 -1.706565 -0.014820  1.018963\n",
      "2023-02-22  1.651584  0.364085  0.837745  0.166816\n",
      "2023-02-23  0.178265  1.388153 -0.875721  0.267024\n",
      "2023-02-24 -0.342911  1.134256 -1.522517 -0.334522\n",
      "2023-02-25 -0.701023 -0.631916 -0.360167 -1.063309\n",
      "2023-02-26 -1.575763 -1.169007  1.234714 -1.199812\n",
      "2023-02-27  0.065122  1.011975  0.528017 -0.731666\n",
      "2023-02-28 -1.136644  0.635964 -0.362662  0.192305\n",
      "2023-03-01 -1.389486 -1.172467  0.500847  0.136984\n",
      "2023-03-02  0.755093  0.089185  0.295046 -0.801574\n",
      "                   1         2         3         4\n",
      "2023-02-21       NaN       NaN       NaN       NaN\n",
      "2023-02-22       NaN       NaN       NaN       NaN\n",
      "2023-02-23       NaN       NaN       NaN       NaN\n",
      "2023-02-24 -1.342911  0.134256 -2.522517 -1.334522\n",
      "2023-02-25 -2.701023 -2.631916 -2.360167 -3.063309\n",
      "2023-02-26 -4.575763 -4.169007 -1.765286 -4.199812\n",
      "2023-02-27       NaN       NaN       NaN       NaN\n",
      "2023-02-28 -5.136644 -3.364036 -4.362662 -3.807695\n",
      "2023-03-01 -6.389486 -6.172467 -4.499153 -4.863016\n",
      "2023-03-02 -5.244907 -5.910815 -5.704954 -6.801574\n"
     ]
    }
   ],
   "source": [
    "b=df.sub(s, axis=\"index\")\n",
    "print(s)\n",
    "print(df)\n",
    "print(b)"
   ]
  },
  {
   "cell_type": "code",
   "execution_count": 89,
   "id": "c62fa824",
   "metadata": {},
   "outputs": [
    {
     "name": "stdout",
     "output_type": "stream",
     "text": [
      "   a  b  c  d  e\n",
      "0  1  0  9  4  7\n",
      "1  2  5  8  5  5\n",
      "2  3  8  7  6  0\n",
      "3  4  9  5  8  3\n"
     ]
    }
   ],
   "source": [
    "a=pd.DataFrame({\"a\":[1,2,3,4],\n",
    "                \"b\":[0,5,8,9],\n",
    "               \"c\":[9,8,7,5],\n",
    "               \"d\":[4,5,6,8],\n",
    "               \"e\":[7,5,0,3]})\n",
    "print(a)"
   ]
  },
  {
   "cell_type": "code",
   "execution_count": 91,
   "id": "72083094",
   "metadata": {},
   "outputs": [
    {
     "data": {
      "text/plain": [
       "0    NaN\n",
       "1    1.0\n",
       "2    2.0\n",
       "3    3.0\n",
       "dtype: float64"
      ]
     },
     "execution_count": 91,
     "metadata": {},
     "output_type": "execute_result"
    }
   ],
   "source": [
    "s = pd.Series([1,2,3,4]).shift(1)\n",
    "s"
   ]
  },
  {
   "cell_type": "code",
   "execution_count": 106,
   "id": "27b1943a",
   "metadata": {},
   "outputs": [
    {
     "data": {
      "text/html": [
       "<div>\n",
       "<style scoped>\n",
       "    .dataframe tbody tr th:only-of-type {\n",
       "        vertical-align: middle;\n",
       "    }\n",
       "\n",
       "    .dataframe tbody tr th {\n",
       "        vertical-align: top;\n",
       "    }\n",
       "\n",
       "    .dataframe thead th {\n",
       "        text-align: right;\n",
       "    }\n",
       "</style>\n",
       "<table border=\"1\" class=\"dataframe\">\n",
       "  <thead>\n",
       "    <tr style=\"text-align: right;\">\n",
       "      <th></th>\n",
       "      <th>a</th>\n",
       "      <th>b</th>\n",
       "      <th>c</th>\n",
       "      <th>d</th>\n",
       "      <th>e</th>\n",
       "    </tr>\n",
       "  </thead>\n",
       "  <tbody>\n",
       "    <tr>\n",
       "      <th>0</th>\n",
       "      <td>NaN</td>\n",
       "      <td>NaN</td>\n",
       "      <td>NaN</td>\n",
       "      <td>NaN</td>\n",
       "      <td>NaN</td>\n",
       "    </tr>\n",
       "    <tr>\n",
       "      <th>1</th>\n",
       "      <td>1.0</td>\n",
       "      <td>4.0</td>\n",
       "      <td>7.0</td>\n",
       "      <td>4.0</td>\n",
       "      <td>4.0</td>\n",
       "    </tr>\n",
       "    <tr>\n",
       "      <th>2</th>\n",
       "      <td>1.0</td>\n",
       "      <td>6.0</td>\n",
       "      <td>5.0</td>\n",
       "      <td>4.0</td>\n",
       "      <td>-2.0</td>\n",
       "    </tr>\n",
       "    <tr>\n",
       "      <th>3</th>\n",
       "      <td>1.0</td>\n",
       "      <td>6.0</td>\n",
       "      <td>2.0</td>\n",
       "      <td>5.0</td>\n",
       "      <td>0.0</td>\n",
       "    </tr>\n",
       "  </tbody>\n",
       "</table>\n",
       "</div>"
      ],
      "text/plain": [
       "     a    b    c    d    e\n",
       "0  NaN  NaN  NaN  NaN  NaN\n",
       "1  1.0  4.0  7.0  4.0  4.0\n",
       "2  1.0  6.0  5.0  4.0 -2.0\n",
       "3  1.0  6.0  2.0  5.0  0.0"
      ]
     },
     "execution_count": 106,
     "metadata": {},
     "output_type": "execute_result"
    }
   ],
   "source": [
    "a.sub(s,axis=0)"
   ]
  },
  {
   "cell_type": "code",
   "execution_count": 102,
   "id": "0281e560",
   "metadata": {},
   "outputs": [
    {
     "name": "stdout",
     "output_type": "stream",
     "text": [
      "   A  B  C\n",
      "0  1  4  7\n",
      "1  2  5  8\n",
      "2  3  6  9\n",
      "A     6\n",
      "B    15\n",
      "C    24\n",
      "dtype: int64\n",
      "0    12\n",
      "1    15\n",
      "2    18\n",
      "dtype: int64\n"
     ]
    }
   ],
   "source": [
    "import pandas as pd\n",
    "df = pd.DataFrame({'A': [1, 2, 3], 'B': [4, 5, 6], 'C': [7, 8, 9]})\n",
    "column_sum = df.sum(axis=0)\n",
    "row_sum = df.sum(axis=1)\n",
    "print(df)\n",
    "print(column_sum)\n",
    "print(row_sum)"
   ]
  },
  {
   "cell_type": "code",
   "execution_count": 107,
   "id": "e5c1df50",
   "metadata": {},
   "outputs": [
    {
     "name": "stdout",
     "output_type": "stream",
     "text": [
      "   a  b  c  d  e\n",
      "0  1  0  9  4  7\n",
      "1  2  5  8  5  5\n",
      "2  3  8  7  6  0\n",
      "3  4  9  5  8  3\n"
     ]
    }
   ],
   "source": [
    "x=pd.DataFrame({\"a\":[1,2,3,4],\n",
    "                \"b\":[0,5,8,9],\n",
    "               \"c\":[9,8,7,5],\n",
    "               \"d\":[4,5,6,8],\n",
    "               \"e\":[7,5,0,3]})\n",
    "print(x)"
   ]
  },
  {
   "cell_type": "code",
   "execution_count": 108,
   "id": "c7c67c88",
   "metadata": {},
   "outputs": [
    {
     "data": {
      "text/html": [
       "<div>\n",
       "<style scoped>\n",
       "    .dataframe tbody tr th:only-of-type {\n",
       "        vertical-align: middle;\n",
       "    }\n",
       "\n",
       "    .dataframe tbody tr th {\n",
       "        vertical-align: top;\n",
       "    }\n",
       "\n",
       "    .dataframe thead th {\n",
       "        text-align: right;\n",
       "    }\n",
       "</style>\n",
       "<table border=\"1\" class=\"dataframe\">\n",
       "  <thead>\n",
       "    <tr style=\"text-align: right;\">\n",
       "      <th></th>\n",
       "      <th>a</th>\n",
       "      <th>b</th>\n",
       "      <th>c</th>\n",
       "      <th>d</th>\n",
       "      <th>e</th>\n",
       "    </tr>\n",
       "  </thead>\n",
       "  <tbody>\n",
       "    <tr>\n",
       "      <th>0</th>\n",
       "      <td>0</td>\n",
       "      <td>0</td>\n",
       "      <td>0</td>\n",
       "      <td>0</td>\n",
       "      <td>0</td>\n",
       "    </tr>\n",
       "    <tr>\n",
       "      <th>1</th>\n",
       "      <td>0</td>\n",
       "      <td>0</td>\n",
       "      <td>0</td>\n",
       "      <td>0</td>\n",
       "      <td>0</td>\n",
       "    </tr>\n",
       "    <tr>\n",
       "      <th>2</th>\n",
       "      <td>0</td>\n",
       "      <td>0</td>\n",
       "      <td>0</td>\n",
       "      <td>0</td>\n",
       "      <td>0</td>\n",
       "    </tr>\n",
       "    <tr>\n",
       "      <th>3</th>\n",
       "      <td>0</td>\n",
       "      <td>0</td>\n",
       "      <td>0</td>\n",
       "      <td>0</td>\n",
       "      <td>0</td>\n",
       "    </tr>\n",
       "  </tbody>\n",
       "</table>\n",
       "</div>"
      ],
      "text/plain": [
       "   a  b  c  d  e\n",
       "0  0  0  0  0  0\n",
       "1  0  0  0  0  0\n",
       "2  0  0  0  0  0\n",
       "3  0  0  0  0  0"
      ]
     },
     "execution_count": 108,
     "metadata": {},
     "output_type": "execute_result"
    }
   ],
   "source": [
    "a.sub(x)"
   ]
  },
  {
   "cell_type": "code",
   "execution_count": null,
   "id": "4766129c",
   "metadata": {},
   "outputs": [],
   "source": []
  }
 ],
 "metadata": {
  "kernelspec": {
   "display_name": "Python 3 (ipykernel)",
   "language": "python",
   "name": "python3"
  },
  "language_info": {
   "codemirror_mode": {
    "name": "ipython",
    "version": 3
   },
   "file_extension": ".py",
   "mimetype": "text/x-python",
   "name": "python",
   "nbconvert_exporter": "python",
   "pygments_lexer": "ipython3",
   "version": "3.9.13"
  }
 },
 "nbformat": 4,
 "nbformat_minor": 5
}
